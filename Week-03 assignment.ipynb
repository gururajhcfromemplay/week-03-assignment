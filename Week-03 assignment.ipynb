{
 "cells": [
  {
   "cell_type": "markdown",
   "id": "6c7f8ab8",
   "metadata": {},
   "source": [
    "## WEEK-03-ASSIGNMENT "
   ]
  },
  {
   "cell_type": "markdown",
   "id": "eaedc1b2",
   "metadata": {},
   "source": [
    "## Working with CSV and PDFs"
   ]
  },
  {
   "cell_type": "markdown",
   "id": "2c5489d2",
   "metadata": {},
   "source": [
    "#### Submitted by Gururaj H C "
   ]
  },
  {
   "cell_type": "code",
   "execution_count": null,
   "id": "3fd67e6b",
   "metadata": {},
   "outputs": [],
   "source": []
  },
  {
   "cell_type": "code",
   "execution_count": 1,
   "id": "99f79de4",
   "metadata": {},
   "outputs": [
    {
     "name": "stdout",
     "output_type": "stream",
     "text": [
      "Requirement already satisfied: PyPDF2 in c:\\users\\gurur\\appdata\\local\\programs\\python\\python37\\lib\\site-packages (3.0.1)\n",
      "Requirement already satisfied: typing_extensions>=3.10.0.0 in c:\\users\\gurur\\appdata\\local\\programs\\python\\python37\\lib\\site-packages (from PyPDF2) (4.7.1)\n",
      "Note: you may need to restart the kernel to use updated packages.\n"
     ]
    },
    {
     "name": "stderr",
     "output_type": "stream",
     "text": [
      "WARNING: Ignoring invalid distribution -illow (c:\\users\\gurur\\appdata\\local\\programs\\python\\python37\\lib\\site-packages)\n",
      "WARNING: Ignoring invalid distribution -illow (c:\\users\\gurur\\appdata\\local\\programs\\python\\python37\\lib\\site-packages)\n"
     ]
    }
   ],
   "source": [
    "%pip install PyPDF2"
   ]
  },
  {
   "cell_type": "code",
   "execution_count": 2,
   "id": "0f7f6bb4",
   "metadata": {},
   "outputs": [],
   "source": [
    "import pandas as pd\n",
    "import time\n",
    "import PyPDF2\n",
    "from datetime import datetime, timedelta\n",
    "import re"
   ]
  },
  {
   "cell_type": "markdown",
   "id": "952417b1",
   "metadata": {},
   "source": [
    "### Reading, Writing CSV\n",
    "Assignment: Read a CSV file named \"people.csv\" containing user details like Name, Age, Email and write this data to a new CSV file named \"output.csv\" but in reverse order of rows (i.e., last row of input becomes first row of output). "
   ]
  },
  {
   "cell_type": "code",
   "execution_count": 3,
   "id": "001d48fe",
   "metadata": {},
   "outputs": [
    {
     "name": "stdout",
     "output_type": "stream",
     "text": [
      "Original Dataset\n",
      "       Name  Age                Email          City         Phone\n",
      "95    User3   44    user3@example.com  Philadelphia  567-890-1234\n",
      "96  User144   42  user144@example.com       Phoenix  567-890-1234\n",
      "97   User25   31                  NaN      New York           NaN\n",
      "98   User24   53   user24@example.com   San Antonio  678-901-2345\n",
      "99  User117   32  user117@example.com       Houston  456-789-0123\n",
      "\n",
      "\n",
      "Modified dataset\n",
      "      Name  Age                Email          City         Phone\n",
      "0  User117   32  user117@example.com       Houston  456-789-0123\n",
      "1   User24   53   user24@example.com   San Antonio  678-901-2345\n",
      "2   User25   31                  NaN      New York           NaN\n",
      "3  User144   42  user144@example.com       Phoenix  567-890-1234\n",
      "4    User3   44    user3@example.com  Philadelphia  567-890-1234\n"
     ]
    }
   ],
   "source": [
    "df1 = pd.read_csv('people.csv')\n",
    "print('Original Dataset')\n",
    "print(df1.tail())\n",
    "df1 = df1.iloc[::-1]\n",
    "df1.to_csv('output.csv', index = False)\n",
    "df_output = pd.read_csv('output.csv')\n",
    "print('')\n",
    "print('')\n",
    "print('Modified dataset')\n",
    "print(df_output.head())"
   ]
  },
  {
   "cell_type": "markdown",
   "id": "9619bf5c",
   "metadata": {},
   "source": [
    "### Handling headers, custom delimiters\n",
    "Assignment: Given a CSV file \"cars_data.txt\" with a custom delimiter \"|\", read the file and write its contents to a new file \"formatted.csv\" with a comma as the delimiter. Ensure that the headers remain intact. "
   ]
  },
  {
   "cell_type": "code",
   "execution_count": 4,
   "id": "2c1fcd91",
   "metadata": {},
   "outputs": [
    {
     "name": "stdout",
     "output_type": "stream",
     "text": [
      "        Brand   Model   Color Fuel_Type    Transmission  Year     Mileage  \\\n",
      "0      Nissan  ModelF  Silver    Diesel  Semi-Automatic  2020  111k miles   \n",
      "1     Hyundai  ModelA    Gray    Diesel  Semi-Automatic  2010  111k miles   \n",
      "2  Volkswagen  ModelF    Blue       Gas  Semi-Automatic  2019   89k miles   \n",
      "3    Mercedes  ModelG     Red    Diesel       Automatic  2011   79k miles   \n",
      "4       Honda  ModelI  Purple    Petrol  Semi-Automatic  2014   89k miles   \n",
      "\n",
      "    Price   Owner Availability  \n",
      "0  $82246   First    Available  \n",
      "1  $98877  Second    Available  \n",
      "2  $34016   Third    Available  \n",
      "3  $98877   Third    Available  \n",
      "4  $43379  Fourth    Available  \n",
      "        Brand   Model   Color Fuel_Type    Transmission  Year     Mileage  \\\n",
      "0      Nissan  ModelF  Silver    Diesel  Semi-Automatic  2020  111k miles   \n",
      "1     Hyundai  ModelA    Gray    Diesel  Semi-Automatic  2010  111k miles   \n",
      "2  Volkswagen  ModelF    Blue       Gas  Semi-Automatic  2019   89k miles   \n",
      "3    Mercedes  ModelG     Red    Diesel       Automatic  2011   79k miles   \n",
      "4       Honda  ModelI  Purple    Petrol  Semi-Automatic  2014   89k miles   \n",
      "\n",
      "    Price   Owner Availability  \n",
      "0  $82246   First    Available  \n",
      "1  $98877  Second    Available  \n",
      "2  $34016   Third    Available  \n",
      "3  $98877   Third    Available  \n",
      "4  $43379  Fourth    Available  \n"
     ]
    }
   ],
   "source": [
    "df2 = pd.read_csv('cars_data.txt',delimiter='|')\n",
    "print(df2.head())\n",
    "df2.to_csv('formatted.csv',sep=',',header=True,index=False)\n",
    "df_res = pd.read_csv('formatted.csv')\n",
    "print(df_res.head())"
   ]
  },
  {
   "cell_type": "markdown",
   "id": "5b45352f",
   "metadata": {},
   "source": [
    "### Reading PDFs: Extract info and text\n",
    "Assignment: Extract text from a given PDF named \"part_1.pdf\" and save the extracted text to a text file named \"extracted.txt\".\n",
    " "
   ]
  },
  {
   "cell_type": "code",
   "execution_count": 5,
   "id": "8592ee9a",
   "metadata": {},
   "outputs": [],
   "source": [
    "with open(\"part_1.pdf\", \"rb\") as input_file:\n",
    "    pdf_reader = PyPDF2.PdfReader(input_file)\n",
    "    extracted_text = \"\"\n",
    "    \n",
    "    for i in range(len(pdf_reader.pages)):\n",
    "        page = pdf_reader.pages[i]\n",
    "        extracted_text += page.extract_text()\n",
    "\n",
    "with open(\"extracted.txt\", \"w\", encoding=\"utf-8\") as output_file:\n",
    "    output_file.write(extracted_text)\n"
   ]
  },
  {
   "cell_type": "markdown",
   "id": "08091e68",
   "metadata": {},
   "source": [
    "### Writing and Combining PDFs\n",
    "Assignment: Combine two given PDFs \"part_1.pdf\" and \"part_2.pdf\" into a single PDF named \"combined.pdf\"\n",
    "________________________________________\n",
    " "
   ]
  },
  {
   "cell_type": "code",
   "execution_count": 6,
   "id": "df9bb287",
   "metadata": {},
   "outputs": [],
   "source": [
    "with open(\"part_1.pdf\", \"rb\") as pdf1_file, open(\"part_2.pdf\", \"rb\") as pdf2_file:\n",
    "    pdf1_reader = PyPDF2.PdfReader(pdf1_file)\n",
    "    pdf2_reader = PyPDF2.PdfReader(pdf2_file)\n",
    "    combined_pdf = PyPDF2.PdfWriter()\n",
    "    for page in pdf1_reader.pages:\n",
    "        combined_pdf.add_page(page)\n",
    "    for page in pdf2_reader.pages:\n",
    "        combined_pdf.add_page(page)\n",
    "    with open(\"combined.pdf\", \"wb\") as output_pdf:\n",
    "        combined_pdf.write(output_pdf)"
   ]
  },
  {
   "cell_type": "markdown",
   "id": "7016197e",
   "metadata": {},
   "source": [
    "### Skill Set: Dates, Times, and Regular Expressions "
   ]
  },
  {
   "cell_type": "markdown",
   "id": "60ab9161",
   "metadata": {},
   "source": [
    "### Working with Dates and Times\n",
    "Assignment: Given a date string \"2023-04-15\", write a program to add 45 days to it and return the new date."
   ]
  },
  {
   "cell_type": "code",
   "execution_count": 7,
   "id": "29c0f2e8",
   "metadata": {},
   "outputs": [
    {
     "name": "stdout",
     "output_type": "stream",
     "text": [
      "Initial date is 2023-04-15 00:00:00\n",
      "\n",
      "Adding 45 days to initial date\n",
      "\n",
      "Final date is 2023-05-30 00:00:00\n"
     ]
    }
   ],
   "source": [
    "date_string = '2023-04-15'\n",
    "input_date = datetime.strptime(date_string, '%Y-%m-%d')\n",
    "print(f'Initial date is {input_date}')\n",
    "output_date = input_date + timedelta(days=45)\n",
    "print('')\n",
    "print('Adding 45 days to initial date')\n",
    "print('')\n",
    "print(f'Final date is {output_date}')"
   ]
  },
  {
   "cell_type": "markdown",
   "id": "afd0ada1",
   "metadata": {},
   "source": [
    "### Assignment: Parse the date string \"15th April, 2023\" into a date object and then format it as \"2023-04-15\"\n",
    " "
   ]
  },
  {
   "cell_type": "code",
   "execution_count": 8,
   "id": "a14edf41",
   "metadata": {},
   "outputs": [
    {
     "name": "stdout",
     "output_type": "stream",
     "text": [
      "Input date format is : 15th April, 2023\n",
      "Output date format is : 2023-04-15\n"
     ]
    }
   ],
   "source": [
    "date = '15th April, 2023'\n",
    "x = datetime.strptime(date, \"%dth %B, %Y\")\n",
    "print(f'Input date format is : {date}')\n",
    "print(f'Output date format is : {x.strftime(\"%Y-%m-%d\")}')"
   ]
  },
  {
   "cell_type": "markdown",
   "id": "e8072047",
   "metadata": {},
   "source": [
    "### Intro to regular expressions\n",
    "Assignment: Write a regular expression to validate email addresses. Test it on a list of sample emails and filter out the invalid ones. Sample emails can be found in file ‘emails.txt’\n",
    " "
   ]
  },
  {
   "cell_type": "code",
   "execution_count": 9,
   "id": "faac28e4",
   "metadata": {},
   "outputs": [
    {
     "name": "stdout",
     "output_type": "stream",
     "text": [
      "Displaying all the valid emails:\n",
      "\n",
      "john.doe@example.com\n",
      "alice_smith@example.co.uk\n",
      "bob.jones@subdomain.example.org\n",
      "frank@company123.com\n",
      "name@subdomain.domain.io\n",
      "UPPERCASE@DOMAIN.COM\n",
      "mixedCase@DoMain.cOm\n",
      "\n",
      "----------------------------------------------------------------------------------------------------\n",
      "\n",
      "Displaying all the invalid emails:\n",
      "\n",
      "eve@my-website.io\n",
      "invalid-email\n",
      "@missingusername.com\n",
      "missingdomain@.com\n",
      "double..dot@domain.com\n",
      ".startdot@domain.com\n",
      "enddot.@domain.com\n",
      "missingatsign.com\n",
      "extra@char@domain.com\n",
      "name@domain\n",
      "name@sub-domain.domain.com\n",
      "name@domain.c\n",
      "name@domain.cc\n",
      "special_chars+1234@domain.com\n",
      "unusual-char$_@domain.com\n"
     ]
    }
   ],
   "source": [
    "pattern1 = r'^[a-zA-Z0-9._-]+@[a-zA-Z0-9.-_]+\\.[a-zA-Z_-]{3,}$'        \n",
    "pattern2 = r'^[a-zA-Z0-9._-]+@[a-zA-Z0-9.-_]+\\.[a-zA-Z_-]{2,}\\.[a-zA-Z_-]{2,}$'\n",
    "pattern3 = r'^[a-zA-Z]'\n",
    "pattern4 = r'\\.\\.'\n",
    "pattern5 = r'\\@\\.'\n",
    "pattern6 = r'.*\\.$'\n",
    "with open(\"emails.txt\",'rb') as input_file:\n",
    "    emails = input_file.readlines()\n",
    "valid_emails = []\n",
    "invalid_emails = []\n",
    "for email in emails:\n",
    "    email = email.strip()\n",
    "    email = email.decode('utf-8')\n",
    "    split_email = email.split('@')[0]\n",
    "    flag = 0\n",
    "    if not re.match(pattern3, email):\n",
    "        flag=1\n",
    "    if re.search(pattern4, email):\n",
    "        flag=1\n",
    "    if email.count('@')!=1:\n",
    "        flag=1\n",
    "    if re.search(pattern5, email):\n",
    "        flag=1\n",
    "    if email.count('.') == 0:\n",
    "        flag=1\n",
    "    if re.search(pattern6, split_email):\n",
    "        flag=1\n",
    "    if flag:\n",
    "        invalid_emails.append(email)\n",
    "    else:\n",
    "        if (re.match(pattern1, email)) or (re.match(pattern2, email)):\n",
    "            valid_emails.append(email)\n",
    "        else:\n",
    "            invalid_emails.append(email)\n",
    "print('Displaying all the valid emails:')\n",
    "print('')\n",
    "for email in valid_emails:\n",
    "    print(email)\n",
    "print('')\n",
    "print('-'*100)\n",
    "print('')\n",
    "print('Displaying all the invalid emails:')\n",
    "print('')\n",
    "for email in invalid_emails:\n",
    "    print(email)"
   ]
  },
  {
   "cell_type": "markdown",
   "id": "3b900ecb",
   "metadata": {},
   "source": [
    "### Basic patterns: metacharacters, literals, quantifiers, groups\n",
    "Assignment: Given a text, extract all the dates using regular expressions. Get the text from file ‘pattern.txt’\n",
    " "
   ]
  },
  {
   "cell_type": "code",
   "execution_count": 10,
   "id": "4c394ee9",
   "metadata": {},
   "outputs": [
    {
     "name": "stdout",
     "output_type": "stream",
     "text": [
      "07/15/1988\n",
      "09/24/2023\n",
      "10/01/2023\n",
      "02-14-2024\n",
      "03.15.2024\n",
      "05-08-2024\n",
      "22/06/2024\n",
      "07.30.2024\n",
      "31-07-2025\n",
      "08/15/2025\n",
      "10.01.1960\n"
     ]
    }
   ],
   "source": [
    "import re\n",
    "\n",
    "# Define your date pattern (you can use the pattern you provided)\n",
    "date_pattern = r'\\b(\\d{2}/\\d{2}/\\d{4}|\\d{1,2}-\\d{2}-\\d{4}|\\d{2,4}-\\d{2}-\\d{2}|\\d{1,2}\\s(?:Jan|Feb|Mar|Apr|May|Jun|Jul|Aug|Sep|Oct|Nov|Dec)[a-zA-Z]*\\s\\d{4}|\\d{2}/\\d{2}/\\d{2}|\\d{1,2}\\.\\d{2}\\.\\d{4})\\b'\n",
    "\n",
    "# Open the file for reading\n",
    "with open('patterns.txt', 'r') as file:\n",
    "    # Read the file line by line or as a whole, depending on your needs\n",
    "    text = file.read()\n",
    "\n",
    "    # Use the regular expression pattern to find dates in the text\n",
    "    date_matches = re.findall(date_pattern, text)\n",
    "\n",
    "    # Process the matches\n",
    "    for match in date_matches:\n",
    "        print(match)\n"
   ]
  },
  {
   "cell_type": "code",
   "execution_count": 16,
   "id": "f0ba660e",
   "metadata": {},
   "outputs": [
    {
     "name": "stdout",
     "output_type": "stream",
     "text": [
      "07/15/1988\n",
      "23rd September\n",
      "09/24/2023\n",
      "10/01/2023\n",
      "January 2nd, 2024\n",
      "02-14-2024\n",
      "5-5-2020\n",
      "March 15, 2024\n",
      "03.15.2024\n",
      "Apr 5, 2024\n",
      "8th of May, 2024\n",
      "05-08-2024\n",
      "June 21, 2024\n",
      "22/06/2024\n",
      "07.30.2024\n",
      "31-07-2025\n",
      "08/15/2025\n",
      "September 1, 2025\n",
      "10.01.1960\n"
     ]
    }
   ],
   "source": [
    "pattern1 = r'\\d{2}/\\d{2}/\\d{4}'\n",
    "pattern2 = r'\\d{1,2}(?:st|nd|rd|th)\\s(?:January|February|March|April|May|June|July|August|September|October|November|December)'\n",
    "pattern3 = r'(?:January|February|March|April|May|June|July|August|September|October|November|December)\\s\\d{1,2}(?:st|nd|rd|th),\\s\\d{4}'\n",
    "pattern4 = r'\\d{2}-\\d{2}-\\d{4}'\n",
    "pattern5 = r'\\d{1,2}-\\d{1,2}-\\d{4}'\n",
    "pattern6 = r'(?:January|February|March|April|May|June|July|August|September|October|November|December)\\s\\d{1,2},\\s\\d{4}'\n",
    "pattern7 = r'\\d{2}-\\d{2}-\\d{4}'\n",
    "pattern8 = r'\\d{1,2}.\\d{1,2}.\\d{4}'\n",
    "pattern9 = r'(?:Jan|Feb|Mar|Apr|May|Jun|Jul|Aug|Sep|Oct|Nov|Dec)\\s\\d{1,2},\\s\\d{4}'\n",
    "pattern10 = r'\\d{1,2}(?:st|nd|rd|th)\\s(?:of)\\s(?:January|February|March|April|May|June|July|August|September|October|November|December),\\s\\d{4}'\n",
    "pattern = f'{pattern1}|{pattern2}|{pattern3}|{pattern4}|{pattern5}|{pattern6}|{pattern7}|{pattern8}|{pattern9}|{pattern10}'\n",
    "dates = re.findall(pattern, text)\n",
    "for date in dates:\n",
    "    print(date)"
   ]
  },
  {
   "cell_type": "markdown",
   "id": "55d19b1f",
   "metadata": {},
   "source": [
    "## Web Scraping and Exception Handling\n",
    " "
   ]
  },
  {
   "cell_type": "markdown",
   "id": "b43ac93a",
   "metadata": {},
   "source": [
    "### Intro to scraping\n",
    "Assignment: Write a basic script to scrape the title of a given webpage.\n",
    " "
   ]
  },
  {
   "cell_type": "code",
   "execution_count": 25,
   "id": "c6adbd7f",
   "metadata": {},
   "outputs": [
    {
     "name": "stdout",
     "output_type": "stream",
     "text": [
      "Enter a url of your choice : http://www.googlee.com\n",
      "\n",
      "Unknown response code : 404\n"
     ]
    }
   ],
   "source": [
    "import requests\n",
    "from bs4 import BeautifulSoup\n",
    "\n",
    "url = input('Enter a url of your choice : ')\n",
    "try:\n",
    "    response = requests.get(url)\n",
    "    if response.status_code == 200:\n",
    "        soup = BeautifulSoup(response.text, 'html.parser')\n",
    "        title = soup.title.string\n",
    "        print('')\n",
    "        print(f'Title of {url} is {title}')\n",
    "    else:\n",
    "        print('')\n",
    "        print(f'Unknown response code : {response.status_code}')\n",
    "except:\n",
    "    print('')\n",
    "    print('Error! No such webpage')"
   ]
  },
  {
   "cell_type": "markdown",
   "id": "b3a825e6",
   "metadata": {},
   "source": [
    "### Making HTTP Requests with requests\n",
    "Assignment: Use the requests library to fetch the content of a webpage and print its status code.\n",
    " "
   ]
  },
  {
   "cell_type": "code",
   "execution_count": 28,
   "id": "d7fcf6fb",
   "metadata": {},
   "outputs": [
    {
     "name": "stdout",
     "output_type": "stream",
     "text": [
      "Enter a url of your choice : http://www.googlee.com\n",
      "\n",
      "Something wrong with the webpage, response code is 404\n"
     ]
    }
   ],
   "source": [
    "import requests\n",
    "from bs4 import BeautifulSoup\n",
    "\n",
    "url = input('Enter a url of your choice : ')\n",
    "try:\n",
    "    response = requests.get(url)\n",
    "    if response.status_code == 200:\n",
    "        print('')\n",
    "        print(f'Response code from the webpage {url} is {response.status_code}')\n",
    "        print('')\n",
    "        print('Content of the webpage is : ')\n",
    "        print(response.text)\n",
    "    else:\n",
    "        print('')\n",
    "        print(f'Something wrong with the webpage, response code is {response.status_code}')\n",
    "except:\n",
    "    print('')\n",
    "    print('Invalid webpage')\n"
   ]
  },
  {
   "cell_type": "markdown",
   "id": "1855cd1d",
   "metadata": {},
   "source": [
    "### Parsing HTML with BeautifulSoup4\n",
    "Assignment: Parse the content of a webpage to extract all the hyperlinks (a tags) using BeautifulSoup4. "
   ]
  },
  {
   "cell_type": "code",
   "execution_count": 37,
   "id": "012bb850",
   "metadata": {},
   "outputs": [
    {
     "name": "stdout",
     "output_type": "stream",
     "text": [
      "Enter an URL of your choice : http://www.googlee.com\n",
      "Invalid response code 404 for : http://www.googlee.com\n"
     ]
    }
   ],
   "source": [
    "import requests\n",
    "from bs4 import BeautifulSoup\n",
    "\n",
    "url = input('Enter an URL of your choice : ')\n",
    "try:\n",
    "    response = requests.get(url)\n",
    "    if response.status_code == 200:\n",
    "        soup = BeautifulSoup(response.text, 'html.parser')\n",
    "        links = soup.find_all('a')\n",
    "        for link in links:\n",
    "            href = link.get('href')\n",
    "            print(href)\n",
    "    else:\n",
    "        print(f'Invalid response code {response.status_code} for : {url}')\n",
    "except:\n",
    "    print(f'Invalid webpage : {url}')\n"
   ]
  },
  {
   "cell_type": "markdown",
   "id": "e0c5da17",
   "metadata": {},
   "source": [
    "### Effective web scraping\n",
    "Assignment: Scrape product names and prices from a mock e-commerce webpage and save them as a CSV. "
   ]
  },
  {
   "cell_type": "code",
   "execution_count": 41,
   "id": "f4a32c85",
   "metadata": {},
   "outputs": [
    {
     "name": "stdout",
     "output_type": "stream",
     "text": [
      "Enter the product name below to fetch its different varients and prices : \n",
      "One plus nord ce3 5g\n",
      "https://www.flipkart.com/search?q=One+plus+nord+ce3+5g\n",
      "Invalid URL : https://www.flipkart.com/search?q=One+plus+nord+ce3+5g\n"
     ]
    }
   ],
   "source": [
    "import requests\n",
    "from bs4 import BeautifulSoup\n",
    "\n",
    "print('Enter the product name below to fetch its different varients and prices : ')\n",
    "prod = input().split()\n",
    "url_1 = 'https://www.flipkart.com/search?q='\n",
    "url_2 = '+'.join(prod)\n",
    "url = url_1+url_2\n",
    "print(url)\n",
    "\n",
    "try:\n",
    "    response = requests.get(url)\n",
    "    if response.status_code == 200:\n",
    "        soup = BeautifulSoup(response.text, 'html.parser')\n",
    "        products = soup.find_all(div, class_=\"_4rR01T\".text)\n",
    "        prices = soup.find_all(div, class_=\"_30jeq3 _1_WHN1\".text)\n",
    "        print(products)\n",
    "        print(prices)\n",
    "    else:\n",
    "        print(f'Unknown response code {response.status_code} for URL : {url}')\n",
    "except:\n",
    "    print(f'Invalid URL : {url}')\n",
    "        \n",
    "        \n",
    "        "
   ]
  },
  {
   "cell_type": "code",
   "execution_count": 55,
   "id": "3c4b12ca",
   "metadata": {},
   "outputs": [
    {
     "name": "stdout",
     "output_type": "stream",
     "text": [
      "Enter the product name below to fetch its different variants and prices: \n",
      "Iphone 14\n",
      "Content successfully saved to .csv file\n"
     ]
    }
   ],
   "source": [
    "import requests\n",
    "from bs4 import BeautifulSoup\n",
    "import pandas as pd\n",
    "import time\n",
    "\n",
    "print('Enter the product name below to fetch its different variants and prices: ')\n",
    "prod = input().split()\n",
    "search_query = '+'.join(prod)\n",
    "url = f'https://www.flipkart.com/search?q={search_query}'\n",
    "\n",
    "try:\n",
    "    response = requests.get(url)\n",
    "    time.sleep(2)\n",
    "    if response.status_code == 200:\n",
    "        soup = BeautifulSoup(response.text, 'html.parser')\n",
    "        names = [element.text for element in soup.find_all('div', class_='_4rR01T')]\n",
    "        time.sleep(2)\n",
    "        prices = [element.text for element in soup.find_all('div', class_='_30jeq3 _1_WHN1')]\n",
    "        df = pd.DataFrame({'Product_name': names, 'Product_price': prices})\n",
    "        df.to_csv('products.csv', index=False)\n",
    "        print('Content successfully saved to .csv file')\n",
    "    else:\n",
    "        print(f'Unknown response code {response.status_code} for URL: {url}')\n",
    "except Exception as e:\n",
    "    print(f'An error occurred: {e}')\n"
   ]
  },
  {
   "cell_type": "markdown",
   "id": "de1ec653",
   "metadata": {},
   "source": [
    "### Basic exceptions: SyntaxError, NameError, ValueError\n",
    "Assignment: Write a script that intentionally causes each of the mentioned exceptions and handle them with appropriate error messages.\n",
    " "
   ]
  },
  {
   "cell_type": "code",
   "execution_count": 79,
   "id": "ca67194b",
   "metadata": {},
   "outputs": [
    {
     "name": "stdout",
     "output_type": "stream",
     "text": [
      "Assign a value to each variable before using them\n"
     ]
    }
   ],
   "source": [
    "def create_NameError():\n",
    "    try:\n",
    "        a = 10\n",
    "        b : 2  # This line will raise a SyntaxError\n",
    "        c = a + b\n",
    "    except NameError:\n",
    "        print('Assign a value to each variable before using them')\n",
    "\n",
    "create_NameError()"
   ]
  },
  {
   "cell_type": "code",
   "execution_count": 80,
   "id": "bb8f3258",
   "metadata": {},
   "outputs": [
    {
     "name": "stdout",
     "output_type": "stream",
     "text": [
      "Perform operations on similar datatypes\n"
     ]
    }
   ],
   "source": [
    "def create_TypeError():\n",
    "    try:\n",
    "        name = ['Emplay', 'Inc']\n",
    "        x = 10\n",
    "        name + x  # This line will raise a TypeError\n",
    "    except TypeError:\n",
    "        print('Perform operations on similar datatypes')\n",
    "        \n",
    "create_TypeError()"
   ]
  },
  {
   "cell_type": "code",
   "execution_count": 82,
   "id": "a0f8ae54",
   "metadata": {},
   "outputs": [
    {
     "name": "stdout",
     "output_type": "stream",
     "text": [
      "Check the value of the variable before printing\n"
     ]
    }
   ],
   "source": [
    "def create_Value_Error():\n",
    "    try:\n",
    "        print(int('abc'))\n",
    "    except:\n",
    "        print('Check the value of the variable before printing')\n",
    "create_Value_Error()"
   ]
  },
  {
   "cell_type": "code",
   "execution_count": 83,
   "id": "1f0bff59",
   "metadata": {},
   "outputs": [
    {
     "ename": "SyntaxError",
     "evalue": "invalid syntax (<ipython-input-83-ffed06b6cb22>, line 3)",
     "output_type": "error",
     "traceback": [
      "\u001b[1;36m  File \u001b[1;32m\"<ipython-input-83-ffed06b6cb22>\"\u001b[1;36m, line \u001b[1;32m3\u001b[0m\n\u001b[1;33m    x = [1.2.3.4]\u001b[0m\n\u001b[1;37m             ^\u001b[0m\n\u001b[1;31mSyntaxError\u001b[0m\u001b[1;31m:\u001b[0m invalid syntax\n"
     ]
    }
   ],
   "source": [
    "def create_Syntax_Error():\n",
    "    try:\n",
    "        x = [1.2.3.4] \n",
    "    except SyntaxError:\n",
    "        print(f'Check the syntax of the statement')\n",
    "\n",
    "create_Syntax_Error()"
   ]
  },
  {
   "cell_type": "markdown",
   "id": "231eda80",
   "metadata": {},
   "source": [
    "### Handling exception using try, except, finally\n",
    "Assignment: Write a function to divide two numbers. Handle the ZeroDivisionError using try, except, and finally blocks. In the finally block, print \"Operation complete.\"\n",
    " \n"
   ]
  },
  {
   "cell_type": "code",
   "execution_count": 87,
   "id": "a220e472",
   "metadata": {},
   "outputs": [
    {
     "name": "stdout",
     "output_type": "stream",
     "text": [
      "Enter the values of x and y below, seperated by spaces : \n",
      "5 0\n",
      "Value of x is : 5\n",
      "Value of y is : 0\n",
      "You are trying to divide a number by zero which is invalid\n",
      "Operation complete!\n"
     ]
    }
   ],
   "source": [
    "def divide(x,y):\n",
    "    try:\n",
    "        print(f'Value of x is : {x}')\n",
    "        print(f'Value of y is : {y}')\n",
    "        print(f'{x} divided by {y} is :{x/y}')\n",
    "    except:\n",
    "        print('You are trying to divide a number by zero which is invalid')\n",
    "    finally:\n",
    "        print('Operation complete!')\n",
    "if __name__ == \"__main__\":\n",
    "    print('Enter the values of x and y below, seperated by spaces : ')\n",
    "    x, y = [int(x) for x in input().split()]\n",
    "    divide(x,y)"
   ]
  },
  {
   "cell_type": "markdown",
   "id": "7fd81651",
   "metadata": {},
   "source": [
    "### Raise exception with raise\n",
    "Assignment: Write a function that checks the length of a username. If the username is less than 5 characters or more than 15 characters, raise a custom exception. "
   ]
  },
  {
   "cell_type": "code",
   "execution_count": 91,
   "id": "032809c7",
   "metadata": {},
   "outputs": [
    {
     "name": "stdout",
     "output_type": "stream",
     "text": [
      "Enter the username below to check if it's valid or not (valid only if its length is between 5-15 characters)\n",
      "GR\n",
      "Invalid username length!\n"
     ]
    }
   ],
   "source": [
    "class InvalidUsernameLength(Exception):\n",
    "    pass\n",
    "\n",
    "def check_length(name):\n",
    "    try:\n",
    "        if len(name) < 5 or len(name) > 15:\n",
    "            raise InvalidUsernameLength\n",
    "    except InvalidUsernameLength: \n",
    "        print('Invalid username length!')\n",
    "\n",
    "if __name__ == '__main__':\n",
    "    print('Enter the username below to check if it\\'s valid or not (valid only if its length is between 5-15 characters)')\n",
    "    name = input()\n",
    "    check_length(name)\n"
   ]
  },
  {
   "cell_type": "markdown",
   "id": "7fe624be",
   "metadata": {},
   "source": [
    "## Skill Set: Data Visualization with Matplotlib\n",
    " "
   ]
  },
  {
   "cell_type": "markdown",
   "id": "08e781c8",
   "metadata": {},
   "source": [
    "### Intro to Matplotlib\n",
    "Assignment: Install Matplotlib and create a basic plot showing a linear relationship between two lists of numbers.\n",
    " "
   ]
  },
  {
   "cell_type": "code",
   "execution_count": 99,
   "id": "b8f54f45",
   "metadata": {},
   "outputs": [
    {
     "data": {
      "text/plain": [
       "[<matplotlib.lines.Line2D at 0x1ca76689048>]"
      ]
     },
     "execution_count": 99,
     "metadata": {},
     "output_type": "execute_result"
    },
    {
     "data": {
      "image/png": "[encoded data removed]",
      "text/plain": [
       "<Figure size 432x288 with 1 Axes>"
      ]
     },
     "metadata": {
      "needs_background": "light"
     },
     "output_type": "display_data"
    }
   ],
   "source": [
    "import matplotlib.pyplot as plt\n",
    "x = list(range(1,21))\n",
    "y = list(range(100,1100,50))\n",
    "plt.plot(x,y)"
   ]
  },
  {
   "cell_type": "markdown",
   "id": "3bdf6da4",
   "metadata": {},
   "source": [
    "### Basic Plots: Line Plots, scatter plots, bar plots\n",
    "Assignment: Given a dataset of monthly sales data for a year, create a line plot for sales, a scatter plot for profit, and a bar plot for number of products sold.\n",
    " "
   ]
  },
  {
   "cell_type": "code",
   "execution_count": 114,
   "id": "7fd409ea",
   "metadata": {},
   "outputs": [
    {
     "name": "stdout",
     "output_type": "stream",
     "text": [
      "Creating a line plot to show the variation of sales through out the year\n"
     ]
    },
    {
     "data": {
      "image/png": "[encoded data removed]",
      "text/plain": [
       "<Figure size 432x288 with 1 Axes>"
      ]
     },
     "metadata": {
      "needs_background": "light"
     },
     "output_type": "display_data"
    },
    {
     "name": "stdout",
     "output_type": "stream",
     "text": [
      "\n",
      "Creating a scatter plot to show the variation of profit through out the year\n"
     ]
    },
    {
     "data": {
      "image/png": "[encoded data removed]",
      "text/plain": [
       "<Figure size 432x288 with 1 Axes>"
      ]
     },
     "metadata": {
      "needs_background": "light"
     },
     "output_type": "display_data"
    },
    {
     "name": "stdout",
     "output_type": "stream",
     "text": [
      "\n",
      "Creating a bar plot to show number of products sold throught out the year\n"
     ]
    },
    {
     "data": {
      "image/png": "[encoded data removed]",
      "text/plain": [
       "<Figure size 432x288 with 1 Axes>"
      ]
     },
     "metadata": {
      "needs_background": "light"
     },
     "output_type": "display_data"
    }
   ],
   "source": [
    "import random\n",
    "df =  pd.DataFrame({\n",
    "    'Month':['Jan','Feb','Mar','Apr','May','Jun','Jul','Aug','Sep','Oct','Nov','December'],\n",
    "    'Sales':[random.randint(100,100000) for _ in range(12)],\n",
    "    'Profit': [random.random() for _ in range(12)]\n",
    "})\n",
    "print('Creating a line plot to show the variation of sales through out the year')\n",
    "plt.plot(df['Month'], df['Sales'])\n",
    "plt.show()\n",
    "print('')\n",
    "print('Creating a scatter plot to show the variation of profit through out the year')\n",
    "plt.scatter(df['Month'], df['Profit'])\n",
    "plt.show()\n",
    "print('')\n",
    "print('Creating a bar plot to show number of products sold throught out the year')\n",
    "plt.bar(df['Month'], df['Sales'])\n",
    "plt.show()"
   ]
  },
  {
   "cell_type": "markdown",
   "id": "4aef0d03",
   "metadata": {},
   "source": [
    "### Advanced Plots: Histograms, box plots, pie charts\n",
    "Assignment: Given a dataset of student marks, create a histogram showing the distribution of marks, a box plot to show the quartiles, and a pie chart to show the percentage of students in each grade category (A, B, C, D, F).\n"
   ]
  },
  {
   "cell_type": "code",
   "execution_count": 115,
   "id": "03fa0e3f",
   "metadata": {},
   "outputs": [
    {
     "data": {
      "text/html": [
       "<div>\n",
       "<style scoped>\n",
       "    .dataframe tbody tr th:only-of-type {\n",
       "        vertical-align: middle;\n",
       "    }\n",
       "\n",
       "    .dataframe tbody tr th {\n",
       "        vertical-align: top;\n",
       "    }\n",
       "\n",
       "    .dataframe thead th {\n",
       "        text-align: right;\n",
       "    }\n",
       "</style>\n",
       "<table border=\"1\" class=\"dataframe\">\n",
       "  <thead>\n",
       "    <tr style=\"text-align: right;\">\n",
       "      <th></th>\n",
       "      <th>Name</th>\n",
       "      <th>Marks</th>\n",
       "      <th>Grade</th>\n",
       "    </tr>\n",
       "  </thead>\n",
       "  <tbody>\n",
       "    <tr>\n",
       "      <th>0</th>\n",
       "      <td>Atharva</td>\n",
       "      <td>100</td>\n",
       "      <td>A</td>\n",
       "    </tr>\n",
       "    <tr>\n",
       "      <th>1</th>\n",
       "      <td>Tanuja</td>\n",
       "      <td>85</td>\n",
       "      <td>B</td>\n",
       "    </tr>\n",
       "    <tr>\n",
       "      <th>2</th>\n",
       "      <td>Hrishita</td>\n",
       "      <td>90</td>\n",
       "      <td>F</td>\n",
       "    </tr>\n",
       "    <tr>\n",
       "      <th>3</th>\n",
       "      <td>Hruthvika</td>\n",
       "      <td>77</td>\n",
       "      <td>D</td>\n",
       "    </tr>\n",
       "    <tr>\n",
       "      <th>4</th>\n",
       "      <td>Samrudh</td>\n",
       "      <td>65</td>\n",
       "      <td>C</td>\n",
       "    </tr>\n",
       "    <tr>\n",
       "      <th>5</th>\n",
       "      <td>Harchith</td>\n",
       "      <td>35</td>\n",
       "      <td>B</td>\n",
       "    </tr>\n",
       "    <tr>\n",
       "      <th>6</th>\n",
       "      <td>Ishtarth</td>\n",
       "      <td>40</td>\n",
       "      <td>C</td>\n",
       "    </tr>\n",
       "    <tr>\n",
       "      <th>7</th>\n",
       "      <td>Samanvay</td>\n",
       "      <td>58</td>\n",
       "      <td>D</td>\n",
       "    </tr>\n",
       "    <tr>\n",
       "      <th>8</th>\n",
       "      <td>Bhooshira</td>\n",
       "      <td>45</td>\n",
       "      <td>F</td>\n",
       "    </tr>\n",
       "  </tbody>\n",
       "</table>\n",
       "</div>"
      ],
      "text/plain": [
       "        Name  Marks Grade\n",
       "0    Atharva    100     A\n",
       "1     Tanuja     85     B\n",
       "2   Hrishita     90     F\n",
       "3  Hruthvika     77     D\n",
       "4    Samrudh     65     C\n",
       "5   Harchith     35     B\n",
       "6   Ishtarth     40     C\n",
       "7   Samanvay     58     D\n",
       "8  Bhooshira     45     F"
      ]
     },
     "execution_count": 115,
     "metadata": {},
     "output_type": "execute_result"
    }
   ],
   "source": [
    "df = pd.DataFrame({\n",
    "    'Name' : ['Atharva','Tanuja','Hrishita','Hruthvika','Samrudh','Harchith','Ishtarth','Samanvay','Bhooshira'],\n",
    "    'Marks':[100,85,90,77,65,35,40,58,45],\n",
    "    'Grade':['A','B','F','D','C','B','C','D','F']\n",
    "})\n",
    "df"
   ]
  },
  {
   "cell_type": "code",
   "execution_count": 118,
   "id": "a235f825",
   "metadata": {},
   "outputs": [
    {
     "data": {
      "image/png": "[encoded data removed]",
      "text/plain": [
       "<Figure size 576x432 with 1 Axes>"
      ]
     },
     "metadata": {
      "needs_background": "light"
     },
     "output_type": "display_data"
    },
    {
     "data": {
      "image/png": "[encoded data removed]",
      "text/plain": [
       "<Figure size 576x432 with 1 Axes>"
      ]
     },
     "metadata": {
      "needs_background": "light"
     },
     "output_type": "display_data"
    },
    {
     "data": {
      "image/png": "[encoded data removed]",
      "text/plain": [
       "<Figure size 576x432 with 1 Axes>"
      ]
     },
     "metadata": {},
     "output_type": "display_data"
    }
   ],
   "source": [
    "# Create a histogram\n",
    "plt.figure(figsize=(8, 6))\n",
    "plt.hist(df['Marks'], bins=9, edgecolor='black', alpha=0.7)\n",
    "plt.xlabel('Marks')\n",
    "plt.ylabel('Frequency')\n",
    "plt.title('Distribution of Marks')\n",
    "plt.show()\n",
    "\n",
    "# Create a box plot\n",
    "plt.figure(figsize=(8, 6))\n",
    "plt.boxplot(df['Marks'], vert=False, notch=True, patch_artist=True)\n",
    "plt.xlabel('Marks')\n",
    "plt.title('Box Plot of Marks')\n",
    "plt.grid(axis='x', linestyle='--', alpha=0.6)\n",
    "plt.show()\n",
    "\n",
    "# Create a pie chart for grade distribution\n",
    "grade_counts = df['Grade'].value_counts()\n",
    "plt.figure(figsize=(8, 6))\n",
    "plt.pie(grade_counts, labels=grade_counts.index, autopct='%1.1f%%', startangle=0, shadow=True)\n",
    "plt.title('Grade Distribution')\n",
    "plt.show()\n"
   ]
  },
  {
   "cell_type": "markdown",
   "id": "b4756294",
   "metadata": {},
   "source": [
    "### Styling and Saving Plots\n",
    "Assignment: Style the plots from the previous assignment using a theme of your choice and save each plot as a PNG image.\n",
    " "
   ]
  },
  {
   "cell_type": "code",
   "execution_count": 126,
   "id": "051ae4d6",
   "metadata": {},
   "outputs": [
    {
     "data": {
      "image/png": "[encoded data removed]",
      "text/plain": [
       "<Figure size 480x320 with 1 Axes>"
      ]
     },
     "metadata": {},
     "output_type": "display_data"
    }
   ],
   "source": [
    "# Create a histogram\n",
    "plt.figure(figsize=(6, 4))\n",
    "plt.style.use('ggplot')\n",
    "plt.hist(df['Marks'], bins=9, edgecolor='black', alpha=0.7)\n",
    "plt.xlabel('Marks')\n",
    "plt.ylabel('Frequency')\n",
    "plt.title('Distribution of Marks')\n",
    "plt.savefig('hist.png',dpi=300)\n",
    "plt.show()"
   ]
  },
  {
   "cell_type": "code",
   "execution_count": 127,
   "id": "27007543",
   "metadata": {},
   "outputs": [
    {
     "data": {
      "image/png": "[encoded data removed]",
      "text/plain": [
       "<Figure size 720x240 with 1 Axes>"
      ]
     },
     "metadata": {},
     "output_type": "display_data"
    }
   ],
   "source": [
    "# Create a box plot\n",
    "plt.figure(figsize=(9, 3))\n",
    "plt.style.use('seaborn')\n",
    "plt.boxplot(df['Marks'], vert=False, notch=True, patch_artist=True)\n",
    "plt.xlabel('Marks')\n",
    "plt.title('Box Plot of Marks')\n",
    "plt.grid(axis='x', linestyle='--', alpha=0.6)\n",
    "plt.savefig('boxplot.png', dpi=300)\n",
    "plt.show()"
   ]
  },
  {
   "cell_type": "code",
   "execution_count": 128,
   "id": "539177c6",
   "metadata": {},
   "outputs": [
    {
     "data": {
      "image/png": "[encoded data removed]",
      "text/plain": [
       "<Figure size 400x400 with 1 Axes>"
      ]
     },
     "metadata": {},
     "output_type": "display_data"
    }
   ],
   "source": [
    "# Create a pie chart for grade distribution\n",
    "grade_counts = df['Grade'].value_counts()\n",
    "plt.style.use('classic')\n",
    "plt.figure(figsize=(5, 5))\n",
    "plt.pie(grade_counts, labels=grade_counts.index, autopct='%1.1f%%', startangle=0, shadow=True)\n",
    "plt.title('Grade Distribution')\n",
    "plt.savefig('piechart.png', dpi=300)\n",
    "plt.show()"
   ]
  },
  {
   "cell_type": "code",
   "execution_count": null,
   "id": "fab64c67",
   "metadata": {},
   "outputs": [],
   "source": []
  }
 ],
 "metadata": {
  "kernelspec": {
   "display_name": "Python 3",
   "language": "python",
   "name": "python3"
  },
  "language_info": {
   "codemirror_mode": {
    "name": "ipython",
    "version": 3
   },
   "file_extension": ".py",
   "mimetype": "text/x-python",
   "name": "python",
   "nbconvert_exporter": "python",
   "pygments_lexer": "ipython3",
   "version": "3.7.9"
  }
 },
 "nbformat": 4,
 "nbformat_minor": 5
}
